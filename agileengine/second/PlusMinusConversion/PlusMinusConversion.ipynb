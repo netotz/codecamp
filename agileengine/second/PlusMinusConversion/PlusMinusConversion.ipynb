{
 "cells": [
  {
   "cell_type": "markdown",
   "metadata": {
    "dotnet_interactive": {
     "language": "csharp"
    }
   },
   "source": [
    "# Plus Minus conversion\n",
    "\n",
    "Write a function solution that, given a string S of length N, replaces all occurrences of \"plus\" with \"+\" and all occurrences of \"minus\" with \"-\".\n",
    "\n",
    "Assume that:\n",
    "- N is an integer within the range [4..1,000]\n",
    "- S is created by concatenating only strings \"plus\" and \"minus\".\n"
   ]
  },
  {
   "cell_type": "code",
   "execution_count": null,
   "metadata": {
    "dotnet_interactive": {
     "language": "csharp"
    }
   },
   "outputs": [
    {
     "data": {
      "text/html": [
       "<div><div></div><div></div><div><strong>Installed Packages</strong><ul><li><span>BenchmarkDotNet, 0.13.1</span></li></ul></div></div>"
      ]
     },
     "metadata": {},
     "output_type": "display_data"
    }
   ],
   "source": [
    "#r \"nuget: BenchmarkDotNet\""
   ]
  },
  {
   "cell_type": "code",
   "execution_count": null,
   "metadata": {
    "dotnet_interactive": {
     "language": "csharp"
    }
   },
   "outputs": [],
   "source": [
    "using BenchmarkDotNet.Attributes;\n",
    "\n",
    "class SolutionsComparison {\n",
    "    public string Input { get; }\n",
    "\n",
    "    public SolutionsComparison() {\n",
    "        Input = GenerateRandomInput(100_000);\n",
    "    }\n",
    "\n",
    "    public static string GenerateRandomInput(int wordsCount) {\n",
    "        var random = new Random();\n",
    "        var input = new StringBuilder();\n",
    "    \n",
    "        while (wordsCount > 0) {\n",
    "            input.Append(random.Next() % 2 == 0 ? \"plus\" : \"minus\");\n",
    "            wordsCount--;\n",
    "        }\n",
    "    \n",
    "        return input.ToString();\n",
    "    }\n",
    "\n",
    "    /// Submitted solution\n",
    "    [Benchmark]\n",
    "    public string SolveReplace() {\n",
    "        return Input.Replace(\"plus\", \"+\").Replace(\"minus\", \"-\");\n",
    "    }\n",
    "\n",
    "    /// Refactored solution\n",
    "    [Benchmark]\n",
    "    public string SolveBuild() {\n",
    "        var capacity = Input.Length / 4;\n",
    "        var stringBuilder = new StringBuilder(capacity, capacity);\n",
    "        foreach (var character in Input) {\n",
    "            if (character == 'p') {\n",
    "                stringBuilder.Append('+');\n",
    "            }\n",
    "            else if (character == 'm') {\n",
    "                stringBuilder.Append('-');\n",
    "            }\n",
    "        }\n",
    "        return stringBuilder.ToString();\n",
    "    }\n",
    "}"
   ]
  },
  {
   "cell_type": "code",
   "execution_count": null,
   "metadata": {
    "dotnet_interactive": {
     "language": "csharp"
    }
   },
   "outputs": [],
   "source": []
  }
 ],
 "metadata": {
  "kernelspec": {
   "display_name": ".NET (C#)",
   "language": "C#",
   "name": ".net-csharp"
  },
  "language_info": {
   "name": "C#"
  }
 },
 "nbformat": 4,
 "nbformat_minor": 2
}
