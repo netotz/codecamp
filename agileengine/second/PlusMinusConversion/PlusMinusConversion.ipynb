{
 "cells": [
  {
   "cell_type": "markdown",
   "metadata": {
    "dotnet_interactive": {
     "language": "csharp"
    }
   },
   "source": [
    "# Plus Minus conversion\n",
    "\n",
    "Write a function solution that, given a string S of length N, replaces all occurrences of \"plus\" with \"+\" and all occurrences of \"minus\" with \"-\".\n",
    "\n",
    "Assume that:\n",
    "- N is an integer within the range [4..1,000]\n",
    "- S is created by concatenating only strings \"plus\" and \"minus\".\n"
   ]
  },
  {
   "cell_type": "code",
   "execution_count": null,
   "metadata": {
    "dotnet_interactive": {
     "language": "csharp"
    }
   },
   "outputs": [
    {
     "data": {
      "text/html": [
       "<div><div></div><div></div><div><strong>Installed Packages</strong><ul><li><span>BenchmarkDotNet, 0.13.1</span></li></ul></div></div>"
      ]
     },
     "metadata": {},
     "output_type": "display_data"
    }
   ],
   "source": [
    "#r \"nuget: BenchmarkDotNet\""
   ]
  },
  {
   "cell_type": "code",
   "execution_count": null,
   "metadata": {
    "dotnet_interactive": {
     "language": "csharp"
    }
   },
   "outputs": [],
   "source": [
    "using System.Text;\n",
    "using BenchmarkDotNet.Attributes;\n",
    "\n",
    "public class SolutionsBenchmark {\n",
    "    private const string plus = nameof(plus);\n",
    "    private const string minus = nameof(minus);\n",
    "    public string Input { get; }\n",
    "\n",
    "    public SolutionsBenchmark() {\n",
    "        Input = GenerateRandomInput(100_000);\n",
    "    }\n",
    "\n",
    "    public string GenerateRandomInput(int wordsCount) {\n",
    "        var random = new Random();\n",
    "        var input = new StringBuilder();\n",
    "    \n",
    "        while (wordsCount > 0) {\n",
    "            input.Append(random.Next() % 2 == 0 ? plus : minus);\n",
    "            wordsCount--;\n",
    "        }\n",
    "    \n",
    "        return input.ToString();\n",
    "    }\n",
    "\n",
    "    /// Submitted solution\n",
    "    [Benchmark]\n",
    "    public string SolveReplace() {\n",
    "        return Input.Replace(plus, \"+\").Replace(minus, \"-\");\n",
    "    }\n",
    "\n",
    "    /// Refactored solution\n",
    "    [Benchmark]\n",
    "    public string SolveBuild() {\n",
    "        var stringBuilder = new StringBuilder();\n",
    "        for (int i = 0; i < Input.Length; i++) {\n",
    "            if (Input[i] == plus[0]) {\n",
    "                stringBuilder.Append('+');\n",
    "                i += plus.Length;\n",
    "            }\n",
    "            else if (Input[i] == minus[0]) {\n",
    "                stringBuilder.Append('-');\n",
    "                i += minus.Length;\n",
    "            }\n",
    "        }\n",
    "        return stringBuilder.ToString();\n",
    "    }\n",
    "}"
   ]
  },
  {
   "cell_type": "code",
   "execution_count": null,
   "metadata": {
    "dotnet_interactive": {
     "language": "csharp"
    }
   },
   "outputs": [
    {
     "name": "stdout",
     "output_type": "stream",
     "text": [
      "// Validating benchmarks:\r\n",
      "Assembly ℛ*8addf1bb-92ed-4ea3-96bc-ef402ed3febd#1-3 which defines benchmarks is non-optimized\r\n",
      "Benchmark was built without optimization enabled (most probably a DEBUG configuration). Please, build it in RELEASE.\r\n",
      "If you want to debug the benchmarks, please see https://benchmarkdotnet.org/articles/guides/troubleshooting.html#debugging-benchmarks.\r\n"
     ]
    },
    {
     "data": {
      "text/html": [
       "<table><thead><tr><th>Title</th><th>ResultsDirectoryPath</th><th>LogFilePath</th><th>HostEnvironmentInfo</th><th>TotalTime</th><th>Style</th><th>Orderer</th><th>Table</th><th>AllRuntimes</th><th>ValidationErrors</th><th>BenchmarksCases</th><th>Reports</th><th>HasCriticalValidationErrors</th></tr></thead><tbody><tr><td><div class=\"dni-plaintext\">Submission#3.SolutionsBenchmark-20220112-180722</div></td><td><div class=\"dni-plaintext\">c:\\Users\\netoo\\local-personal\\repos\\codecamp\\agileengine\\second\\PlusMinusConversion\\BenchmarkDotNet.Artifacts\\results</div></td><td><div class=\"dni-plaintext\">c:\\Users\\netoo\\local-personal\\repos\\codecamp\\agileengine\\second\\PlusMinusConversion\\BenchmarkDotNet.Artifacts\\Submission#3.SolutionsBenchmark-20220112-180722.log</div></td><td><div class=\"dni-plaintext\">{ BenchmarkDotNet.Environments.HostEnvironmentInfo: BenchmarkDotNetVersion: 0.13.1, OsVersion: { Value is not created.: IsValueCreated: False }, CpuInfo: { Value is not created.: IsValueCreated: False }, DotNetSdkVersion: { 6.0.101: IsValueCreated: True }, IsMonoInstalled: { Value is not created.: IsValueCreated: False }, ChronometerFrequency: { 10000000 Hz: Hertz: 10000000 }, ChronometerResolution: { 100.0000 ns: Nanoseconds: 100 }, HardwareTimerKind: Unknown, AntivirusProducts: { Value is not created.: IsValueCreated: False }, VirtualMachineHypervisor: { Value is not created.: IsValueCreated: False }, Architecture: X64, Configuration: RELEASE, RuntimeVersion: .NET 6.0.1 (6.0.121.56705), HasAttachedDebugger: False, HasRyuJit: True, JitInfo: RyuJIT, IsServerGC: True, IsConcurrentGC: True, GCAllocationQuantum: 8192, InDocker: False }</div></td><td><div class=\"dni-plaintext\">00:00:00</div></td><td><div class=\"dni-plaintext\">&lt;null&gt;</div></td><td><div class=\"dni-plaintext\">{ BenchmarkDotNet.Order.DefaultOrderer: SummaryOrderPolicy: Default, MethodOrderPolicy: Declared, SeparateLogicalGroups: True }</div></td><td><div class=\"dni-plaintext\">{ BenchmarkDotNet.Reports.SummaryTable: Summary: { BenchmarkDotNet.Reports.Summary: Title: Submission#3.SolutionsBenchmark-20220112-180722, ResultsDirectoryPath: c:\\Users\\netoo\\local-personal\\repos\\codecamp\\agileengine\\second\\PlusMinusConversion\\BenchmarkDotNet.Artifacts\\results, LogFilePath: c:\\Users\\netoo\\local-personal\\repos\\codecamp\\agileengine\\second\\PlusMinusConversion\\BenchmarkDotNet.Artifacts\\Submission#3.SolutionsBenchmark-20220112-180722.log, HostEnvironmentInfo: { BenchmarkDotNet.Environments.HostEnvironmentInfo: BenchmarkDotNetVersion: 0.13.1, OsVersion: { Value is not created.: IsValueCreated: False }, CpuInfo: { Value is not created.: IsValueCreated: False }, DotNetSdkVersion: { 6.0.101: IsValueCreated: True }, IsMonoInstalled: { Value is not created.: IsValueCreated: False }, ChronometerFrequency: { 10000000 Hz: Hertz: 10000000 }, ChronometerResolution: { 100.0000 ns: Nanoseconds: 100 }, HardwareTimerKind: Unknown, AntivirusProducts: { Value is not created.: IsValueCreated: False }, VirtualMachineHypervisor: { Value is not created.: IsValueCreated: False }, Architecture: X64, Configuration: RELEASE, RuntimeVersion: .NET 6.0.1 (6.0.121.56705), HasAttachedDebugger: False, HasRyuJit: True, JitInfo: RyuJIT, IsServerGC: True, IsConcurrentGC: True, GCAllocationQuantum: 8192, InDocker: False }, TotalTime: 00:00:00, Style: &lt;null&gt;, Orderer: { BenchmarkDotNet.Order.DefaultOrderer: SummaryOrderPolicy: Default, MethodOrderPolicy: Declared, SeparateLogicalGroups: True }, Table: { BenchmarkDotNet.Reports.SummaryTable: Summary: { BenchmarkDotNet.Reports.Summary: Title: Submission#3.SolutionsBenchmark-20220112-180722, ResultsDirectoryPath: c:\\Users\\netoo\\local-personal\\repos\\codecamp\\agileengine\\second\\PlusMinusConversion\\BenchmarkDotNet.Artifacts\\results, LogFilePath: c:\\Users\\netoo\\local-personal\\repos\\codecamp\\agileengine\\second\\PlusMinusConversion\\BenchmarkDotNet.Artifacts\\Submission#3.SolutionsBenchmark-20220112-180722.log, HostEnvironmentInfo: { BenchmarkDotNet.Environments.HostEnvironmentInfo: BenchmarkDotNetVersion: 0.13.1, OsVersion: { Value is not created.: IsValueCreated: False }, CpuInfo: { Value is not created.: IsValueCreated: False }, DotNetSdkVersion: { 6.0.101: IsValueCreated: True }, IsMonoInstalled: { Value is not created.: IsValueCreated: False }, ChronometerFrequency: { 10000000 Hz: Hertz: 10000000 }, ChronometerResolution: { 100.0000 ns: Nanoseconds: 100 }, HardwareTimerKind: Unknown, AntivirusProducts: { Value is not created.: IsValueCreated: False }, VirtualMachineHypervisor: { Value is not created.: IsValueCreated: False }, Architecture: X64, Configuration: RELEASE, RuntimeVersion: .NET 6.0.1 (6.0.121.56705), HasAttachedDebugger: False, HasRyuJit: True, JitInfo: RyuJIT, IsServerGC: True, IsConcurrentGC: True, GCAllocationQuantum: 8192, InDocker: False }, TotalTime: 00:00:00, Style: &lt;null&gt;, Orderer: { BenchmarkDotNet.Order.DefaultOrderer: SummaryOrderPolicy: Default, MethodOrderPolicy: Declared, SeparateLogicalGroups: True }, Table: { BenchmarkDotNet.Reports.SummaryTable: Summary: { BenchmarkDotNet.Reports.Summary: Title: Submission#3.SolutionsBenchmark-20220112-180722, ResultsDirectoryPath: c:\\Users\\netoo\\local-personal\\repos\\codecamp\\agileengine\\second\\PlusMinusConversion\\BenchmarkDotNet.Artifacts\\results, LogFilePath: c:\\Users\\netoo\\local-personal\\repos\\codecamp\\agileengine\\second\\PlusMinusConversion\\BenchmarkDotNet.Artifacts\\Submission#3.SolutionsBenchmark-20220112-180722.log, HostEnvironmentInfo: BenchmarkDotNet.Environments.HostEnvironmentInfo, TotalTime: 00:00:00, Style: &lt;null&gt;, Orderer: BenchmarkDotNet.Order.DefaultOrderer, Table: BenchmarkDotNet.Reports.SummaryTable, AllRuntimes:   [Host] : .NET 6.0.1 (6.0.121.56705), X64 RyuJIT, ValidationErrors: [ Assembly ℛ*8addf1bb-92ed-4ea3-96bc-ef402ed3febd#1-3 which defines benchmarks is non-optimized\r\n",
       "Benchmark was built without optimization enabled (most probably a DEBUG configuration). Please, build it in RELEASE.\r\n",
       "If you want to debug the benchmarks, please see https://benchmarkdotnet.org/articles/guides/troubleshooting.html#debugging-benchmarks. ], BenchmarksCases: [  ], Reports: [  ], HasCriticalValidationErrors: True }, Columns: [  ], ColumnCount: 0, FullHeader: [  ], FullContent: [  ], FullContentStartOfHighlightGroup: [  ], FullContentStartOfLogicalGroup: &lt;null&gt;, FullContentWithHeader: [  ], IsDefault: [  ], EffectiveSummaryStyle: &lt;null&gt;, SeparateLogicalGroups: False }, AllRuntimes:   [Host] : .NET 6.0.1 (6.0.121.56705), X64 RyuJIT, ValidationErrors: [ { Assembly ℛ*8addf1bb-92ed-4ea3-96bc-ef402ed3febd#1-3 which defines benchmarks is non-optimized\r\n",
       "Benchmark was built without optimization enabled (most probably a DEBUG configuration). Please, build it in RELEASE.\r\n",
       "If you want to debug the benchmarks, please see https://benchmarkdotnet.org/articles/guides/troubleshooting.html#debugging-benchmarks.: IsCritical: True, Message: Assembly ℛ*8addf1bb-92ed-4ea3-96bc-ef402ed3febd#1-3 which defines benchmarks is non-optimized\r\n",
       "Benchmark was built without optimization enabled (most probably a DEBUG configuration). Please, build it in RELEASE.\r\n",
       "If you want to debug the benchmarks, please see https://benchmarkdotnet.org/articles/guides/troubleshooting.html#debugging-benchmarks., BenchmarkCase: &lt;null&gt; } ], BenchmarksCases: [  ], Reports: [  ], HasCriticalValidationErrors: True }, Columns: [  ], ColumnCount: 0, FullHeader: [  ], FullContent: [  ], FullContentStartOfHighlightGroup: [  ], FullContentStartOfLogicalGroup: &lt;null&gt;, FullContentWithHeader: [  ], IsDefault: [  ], EffectiveSummaryStyle: &lt;null&gt;, SeparateLogicalGroups: False }, AllRuntimes:   [Host] : .NET 6.0.1 (6.0.121.56705), X64 RyuJIT, ValidationErrors: [ { Assembly ℛ*8addf1bb-92ed-4ea3-96bc-ef402ed3febd#1-3 which defines benchmarks is non-optimized\r\n",
       "Benchmark was built without optimization enabled (most probably a DEBUG configuration). Please, build it in RELEASE.\r\n",
       "If you want to debug the benchmarks, please see https://benchmarkdotnet.org/articles/guides/troubleshooting.html#debugging-benchmarks.: IsCritical: True, Message: Assembly ℛ*8addf1bb-92ed-4ea3-96bc-ef402ed3febd#1-3 which defines benchmarks is non-optimized\r\n",
       "Benchmark was built without optimization enabled (most probably a DEBUG configuration). Please, build it in RELEASE.\r\n",
       "If you want to debug the benchmarks, please see https://benchmarkdotnet.org/articles/guides/troubleshooting.html#debugging-benchmarks., BenchmarkCase: &lt;null&gt; } ], BenchmarksCases: [  ], Reports: [  ], HasCriticalValidationErrors: True }, Columns: [  ], ColumnCount: 0, FullHeader: [  ], FullContent: [  ], FullContentStartOfHighlightGroup: [  ], FullContentStartOfLogicalGroup: &lt;null&gt;, FullContentWithHeader: [  ], IsDefault: [  ], EffectiveSummaryStyle: &lt;null&gt;, SeparateLogicalGroups: False }</div></td><td><div class=\"dni-plaintext\">  [Host] : .NET 6.0.1 (6.0.121.56705), X64 RyuJIT</div></td><td><div class=\"dni-plaintext\">[ { Assembly ℛ*8addf1bb-92ed-4ea3-96bc-ef402ed3febd#1-3 which defines benchmarks is non-optimized\r\n",
       "Benchmark was built without optimization enabled (most probably a DEBUG configuration). Please, build it in RELEASE.\r\n",
       "If you want to debug the benchmarks, please see https://benchmarkdotnet.org/articles/guides/troubleshooting.html#debugging-benchmarks.: IsCritical: True, Message: Assembly ℛ*8addf1bb-92ed-4ea3-96bc-ef402ed3febd#1-3 which defines benchmarks is non-optimized\r\n",
       "Benchmark was built without optimization enabled (most probably a DEBUG configuration). Please, build it in RELEASE.\r\n",
       "If you want to debug the benchmarks, please see https://benchmarkdotnet.org/articles/guides/troubleshooting.html#debugging-benchmarks., BenchmarkCase: &lt;null&gt; } ]</div></td><td><div class=\"dni-plaintext\">[  ]</div></td><td><div class=\"dni-plaintext\">[  ]</div></td><td><div class=\"dni-plaintext\">True</div></td></tr></tbody></table>"
      ]
     },
     "metadata": {},
     "output_type": "display_data"
    }
   ],
   "source": [
    "using BenchmarkDotNet.Running;\n",
    "\n",
    "BenchmarkRunner.Run<SolutionsBenchmark>()"
   ]
  },
  {
   "cell_type": "code",
   "execution_count": null,
   "metadata": {
    "dotnet_interactive": {
     "language": "csharp"
    }
   },
   "outputs": [],
   "source": []
  }
 ],
 "metadata": {
  "kernelspec": {
   "display_name": ".NET (C#)",
   "language": "C#",
   "name": ".net-csharp"
  },
  "language_info": {
   "name": "C#"
  }
 },
 "nbformat": 4,
 "nbformat_minor": 2
}
