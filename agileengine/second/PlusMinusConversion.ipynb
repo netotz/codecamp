{
 "cells": [
  {
   "cell_type": "markdown",
   "metadata": {
    "dotnet_interactive": {
     "language": "csharp"
    }
   },
   "source": [
    "# Plus Minus conversion\n",
    "\n",
    "Write a function solution that, given a string S of length N, replaces all occurrences of \"plus\" with \"+\" and all occurrences of \"minus\" with \"-\".\n",
    "\n",
    "Assume that:\n",
    "- N is an integer within the range [4..1,000]\n",
    "- S is created by concatenating only strings \"plus\" and \"minus\".\n"
   ]
  },
  {
   "cell_type": "code",
   "execution_count": null,
   "metadata": {
    "dotnet_interactive": {
     "language": "csharp"
    }
   },
   "outputs": [],
   "source": [
    "var sample = \"plusminusplusminus\";"
   ]
  },
  {
   "cell_type": "markdown",
   "metadata": {},
   "source": [
    "Submitted solution:"
   ]
  },
  {
   "cell_type": "code",
   "execution_count": null,
   "metadata": {
    "dotnet_interactive": {
     "language": "csharp"
    }
   },
   "outputs": [
    {
     "data": {
      "text/plain": [
       "+-+-"
      ]
     },
     "metadata": {},
     "output_type": "display_data"
    }
   ],
   "source": [
    "string SolveReplace(string input) {\n",
    "    return input.Replace(\"plus\", \"+\").Replace(\"minus\", \"-\");\n",
    "}\n",
    "\n",
    "SolveReplace(sample)"
   ]
  },
  {
   "cell_type": "markdown",
   "metadata": {},
   "source": [
    "Refactored solution:"
   ]
  },
  {
   "cell_type": "code",
   "execution_count": null,
   "metadata": {
    "dotnet_interactive": {
     "language": "csharp"
    }
   },
   "outputs": [
    {
     "data": {
      "text/plain": [
       "+-+-"
      ]
     },
     "metadata": {},
     "output_type": "display_data"
    }
   ],
   "source": [
    "string SolveBuild(string input) {\n",
    "    var capacity = input.Length / 4;\n",
    "    var stringBuilder = new StringBuilder(capacity, capacity);\n",
    "    foreach (var character in input) {\n",
    "        if (character == 'p') {\n",
    "            stringBuilder.Append('+');\n",
    "        }\n",
    "        else if (character == 'm') {\n",
    "            stringBuilder.Append('-');\n",
    "        }\n",
    "    }\n",
    "    return stringBuilder.ToString();\n",
    "}\n",
    "\n",
    "SolveBuild(sample)"
   ]
  },
  {
   "cell_type": "code",
   "execution_count": null,
   "metadata": {
    "dotnet_interactive": {
     "language": "csharp"
    }
   },
   "outputs": [
    {
     "data": {
      "text/plain": [
       "minusplusplusminusminusminusminusplusminusplus"
      ]
     },
     "metadata": {},
     "output_type": "display_data"
    }
   ],
   "source": [
    "string GenerateRandomInput(int wordsCount) {\n",
    "    var random = new Random();\n",
    "    var input = new StringBuilder();\n",
    "\n",
    "    while (wordsCount > 0) {\n",
    "        input.Append(random.Next() % 2 == 0 ? \"plus\" : \"minus\");\n",
    "        wordsCount--;\n",
    "    }\n",
    "\n",
    "    return input.ToString();\n",
    "}\n",
    "\n",
    "GenerateRandomInput(10)"
   ]
  },
  {
   "cell_type": "code",
   "execution_count": null,
   "metadata": {
    "dotnet_interactive": {
     "language": "csharp"
    }
   },
   "outputs": [],
   "source": []
  }
 ],
 "metadata": {
  "kernelspec": {
   "display_name": ".NET (C#)",
   "language": "C#",
   "name": ".net-csharp"
  },
  "language_info": {
   "name": "C#"
  }
 },
 "nbformat": 4,
 "nbformat_minor": 2
}
